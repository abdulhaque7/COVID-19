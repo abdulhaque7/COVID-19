{
 "cells": [
  {
   "cell_type": "markdown",
   "metadata": {},
   "source": [
    "## Covid-19 Predection"
   ]
  },
  {
   "cell_type": "code",
   "execution_count": 1,
   "metadata": {},
   "outputs": [],
   "source": [
    "import pandas as pd"
   ]
  },
  {
   "cell_type": "code",
   "execution_count": 2,
   "metadata": {},
   "outputs": [],
   "source": [
    "covid=pd.read_csv(\"C:\\\\Users\\\\admin\\\\Desktop\\\\M.Tech sem2\\\\New folder\\\\Covid_Surviver2.csv\")"
   ]
  },
  {
   "cell_type": "code",
   "execution_count": 3,
   "metadata": {},
   "outputs": [
    {
     "data": {
      "text/html": [
       "<div>\n",
       "<style scoped>\n",
       "    .dataframe tbody tr th:only-of-type {\n",
       "        vertical-align: middle;\n",
       "    }\n",
       "\n",
       "    .dataframe tbody tr th {\n",
       "        vertical-align: top;\n",
       "    }\n",
       "\n",
       "    .dataframe thead th {\n",
       "        text-align: right;\n",
       "    }\n",
       "</style>\n",
       "<table border=\"1\" class=\"dataframe\">\n",
       "  <thead>\n",
       "    <tr style=\"text-align: right;\">\n",
       "      <th></th>\n",
       "      <th>Gender</th>\n",
       "      <th>Age</th>\n",
       "      <th>Age_Group</th>\n",
       "      <th>Month_Infection</th>\n",
       "      <th>Weather</th>\n",
       "      <th>LockDown</th>\n",
       "      <th>ICU</th>\n",
       "      <th>Locality</th>\n",
       "      <th>Financial</th>\n",
       "      <th>Covid Stage</th>\n",
       "      <th>Immune</th>\n",
       "      <th>Other_Disease</th>\n",
       "      <th>Survived</th>\n",
       "    </tr>\n",
       "  </thead>\n",
       "  <tbody>\n",
       "    <tr>\n",
       "      <th>0</th>\n",
       "      <td>1</td>\n",
       "      <td>78</td>\n",
       "      <td>1</td>\n",
       "      <td>12</td>\n",
       "      <td>1</td>\n",
       "      <td>0</td>\n",
       "      <td>1</td>\n",
       "      <td>1</td>\n",
       "      <td>1</td>\n",
       "      <td>1</td>\n",
       "      <td>2</td>\n",
       "      <td>1</td>\n",
       "      <td>0</td>\n",
       "    </tr>\n",
       "    <tr>\n",
       "      <th>1</th>\n",
       "      <td>1</td>\n",
       "      <td>47</td>\n",
       "      <td>2</td>\n",
       "      <td>5</td>\n",
       "      <td>0</td>\n",
       "      <td>1</td>\n",
       "      <td>1</td>\n",
       "      <td>2</td>\n",
       "      <td>3</td>\n",
       "      <td>1</td>\n",
       "      <td>99</td>\n",
       "      <td>99</td>\n",
       "      <td>1</td>\n",
       "    </tr>\n",
       "    <tr>\n",
       "      <th>2</th>\n",
       "      <td>1</td>\n",
       "      <td>60</td>\n",
       "      <td>1</td>\n",
       "      <td>6</td>\n",
       "      <td>0</td>\n",
       "      <td>1</td>\n",
       "      <td>0</td>\n",
       "      <td>2</td>\n",
       "      <td>2</td>\n",
       "      <td>1</td>\n",
       "      <td>99</td>\n",
       "      <td>99</td>\n",
       "      <td>0</td>\n",
       "    </tr>\n",
       "    <tr>\n",
       "      <th>3</th>\n",
       "      <td>0</td>\n",
       "      <td>50</td>\n",
       "      <td>2</td>\n",
       "      <td>6</td>\n",
       "      <td>0</td>\n",
       "      <td>1</td>\n",
       "      <td>1</td>\n",
       "      <td>2</td>\n",
       "      <td>2</td>\n",
       "      <td>1</td>\n",
       "      <td>99</td>\n",
       "      <td>99</td>\n",
       "      <td>1</td>\n",
       "    </tr>\n",
       "    <tr>\n",
       "      <th>4</th>\n",
       "      <td>0</td>\n",
       "      <td>26</td>\n",
       "      <td>2</td>\n",
       "      <td>6</td>\n",
       "      <td>0</td>\n",
       "      <td>1</td>\n",
       "      <td>1</td>\n",
       "      <td>1</td>\n",
       "      <td>2</td>\n",
       "      <td>1</td>\n",
       "      <td>99</td>\n",
       "      <td>99</td>\n",
       "      <td>1</td>\n",
       "    </tr>\n",
       "  </tbody>\n",
       "</table>\n",
       "</div>"
      ],
      "text/plain": [
       "   Gender  Age  Age_Group  Month_Infection  Weather  LockDown  ICU  Locality  \\\n",
       "0       1   78          1               12        1         0    1         1   \n",
       "1       1   47          2                5        0         1    1         2   \n",
       "2       1   60          1                6        0         1    0         2   \n",
       "3       0   50          2                6        0         1    1         2   \n",
       "4       0   26          2                6        0         1    1         1   \n",
       "\n",
       "   Financial  Covid Stage  Immune  Other_Disease  Survived  \n",
       "0          1            1       2              1         0  \n",
       "1          3            1      99             99         1  \n",
       "2          2            1      99             99         0  \n",
       "3          2            1      99             99         1  \n",
       "4          2            1      99             99         1  "
      ]
     },
     "execution_count": 3,
     "metadata": {},
     "output_type": "execute_result"
    }
   ],
   "source": [
    "covid.head(5)"
   ]
  },
  {
   "cell_type": "code",
   "execution_count": 4,
   "metadata": {},
   "outputs": [
    {
     "name": "stdout",
     "output_type": "stream",
     "text": [
      "<class 'pandas.core.frame.DataFrame'>\n",
      "RangeIndex: 6683 entries, 0 to 6682\n",
      "Data columns (total 13 columns):\n",
      " #   Column           Non-Null Count  Dtype\n",
      "---  ------           --------------  -----\n",
      " 0   Gender           6683 non-null   int64\n",
      " 1   Age              6683 non-null   int64\n",
      " 2   Age_Group        6683 non-null   int64\n",
      " 3   Month_Infection  6683 non-null   int64\n",
      " 4   Weather          6683 non-null   int64\n",
      " 5   LockDown         6683 non-null   int64\n",
      " 6   ICU              6683 non-null   int64\n",
      " 7   Locality         6683 non-null   int64\n",
      " 8   Financial        6683 non-null   int64\n",
      " 9   Covid Stage      6683 non-null   int64\n",
      " 10  Immune           6683 non-null   int64\n",
      " 11  Other_Disease    6683 non-null   int64\n",
      " 12  Survived         6683 non-null   int64\n",
      "dtypes: int64(13)\n",
      "memory usage: 678.8 KB\n"
     ]
    }
   ],
   "source": [
    "covid.info()"
   ]
  },
  {
   "cell_type": "code",
   "execution_count": 5,
   "metadata": {},
   "outputs": [
    {
     "data": {
      "text/plain": [
       "0    3841\n",
       "1    2842\n",
       "Name: Gender, dtype: int64"
      ]
     },
     "execution_count": 5,
     "metadata": {},
     "output_type": "execute_result"
    }
   ],
   "source": [
    "covid['Gender'].value_counts()"
   ]
  },
  {
   "cell_type": "code",
   "execution_count": 6,
   "metadata": {},
   "outputs": [
    {
     "data": {
      "text/plain": [
       "60     312\n",
       "63     247\n",
       "65     220\n",
       "61     213\n",
       "62     208\n",
       "      ... \n",
       "120      2\n",
       "1        2\n",
       "109      2\n",
       "94       2\n",
       "103      1\n",
       "Name: Age, Length: 94, dtype: int64"
      ]
     },
     "execution_count": 6,
     "metadata": {},
     "output_type": "execute_result"
    }
   ],
   "source": [
    "covid['Age'].value_counts()"
   ]
  },
  {
   "cell_type": "code",
   "execution_count": 7,
   "metadata": {
    "scrolled": true
   },
   "outputs": [
    {
     "data": {
      "text/plain": [
       "1    3410\n",
       "2    3051\n",
       "3     222\n",
       "Name: Age_Group, dtype: int64"
      ]
     },
     "execution_count": 7,
     "metadata": {},
     "output_type": "execute_result"
    }
   ],
   "source": [
    "covid['Age_Group'].value_counts()"
   ]
  },
  {
   "cell_type": "code",
   "execution_count": 8,
   "metadata": {},
   "outputs": [
    {
     "data": {
      "text/plain": [
       "4     1807\n",
       "5     1362\n",
       "11     546\n",
       "6      532\n",
       "12     494\n",
       "1      459\n",
       "10     325\n",
       "2      292\n",
       "9      276\n",
       "3      235\n",
       "8      197\n",
       "7      158\n",
       "Name: Month_Infection, dtype: int64"
      ]
     },
     "execution_count": 8,
     "metadata": {},
     "output_type": "execute_result"
    }
   ],
   "source": [
    "covid['Month_Infection'].value_counts()"
   ]
  },
  {
   "cell_type": "code",
   "execution_count": 9,
   "metadata": {},
   "outputs": [
    {
     "data": {
      "text/plain": [
       "0    4338\n",
       "1    2345\n",
       "Name: Weather, dtype: int64"
      ]
     },
     "execution_count": 9,
     "metadata": {},
     "output_type": "execute_result"
    }
   ],
   "source": [
    "covid['Weather'].value_counts()"
   ]
  },
  {
   "cell_type": "code",
   "execution_count": 10,
   "metadata": {},
   "outputs": [
    {
     "data": {
      "text/plain": [
       "1    3739\n",
       "0    2944\n",
       "Name: LockDown, dtype: int64"
      ]
     },
     "execution_count": 10,
     "metadata": {},
     "output_type": "execute_result"
    }
   ],
   "source": [
    "covid['LockDown'].value_counts()"
   ]
  },
  {
   "cell_type": "code",
   "execution_count": 11,
   "metadata": {},
   "outputs": [
    {
     "data": {
      "text/plain": [
       "1    3671\n",
       "0    3012\n",
       "Name: ICU, dtype: int64"
      ]
     },
     "execution_count": 11,
     "metadata": {},
     "output_type": "execute_result"
    }
   ],
   "source": [
    "covid['ICU'].value_counts()"
   ]
  },
  {
   "cell_type": "code",
   "execution_count": 12,
   "metadata": {},
   "outputs": [
    {
     "data": {
      "text/plain": [
       "2     4242\n",
       "1     2263\n",
       "3      177\n",
       "99       1\n",
       "Name: Locality, dtype: int64"
      ]
     },
     "execution_count": 12,
     "metadata": {},
     "output_type": "execute_result"
    }
   ],
   "source": [
    "covid['Locality'].value_counts()"
   ]
  },
  {
   "cell_type": "code",
   "execution_count": 13,
   "metadata": {},
   "outputs": [
    {
     "data": {
      "text/plain": [
       "2     4647\n",
       "1     1748\n",
       "3      287\n",
       "99       1\n",
       "Name: Financial, dtype: int64"
      ]
     },
     "execution_count": 13,
     "metadata": {},
     "output_type": "execute_result"
    }
   ],
   "source": [
    "covid['Financial'].value_counts()"
   ]
  },
  {
   "cell_type": "code",
   "execution_count": 14,
   "metadata": {},
   "outputs": [
    {
     "data": {
      "text/plain": [
       "1    6683\n",
       "Name: Covid Stage, dtype: int64"
      ]
     },
     "execution_count": 14,
     "metadata": {},
     "output_type": "execute_result"
    }
   ],
   "source": [
    "covid['Covid Stage'].value_counts()"
   ]
  },
  {
   "cell_type": "code",
   "execution_count": 15,
   "metadata": {},
   "outputs": [
    {
     "data": {
      "text/plain": [
       "99    3549\n",
       "2     1684\n",
       "1     1450\n",
       "Name: Immune, dtype: int64"
      ]
     },
     "execution_count": 15,
     "metadata": {},
     "output_type": "execute_result"
    }
   ],
   "source": [
    "covid['Immune'].value_counts()"
   ]
  },
  {
   "cell_type": "code",
   "execution_count": 16,
   "metadata": {},
   "outputs": [
    {
     "data": {
      "text/plain": [
       "99    4873\n",
       "1     1708\n",
       "0      102\n",
       "Name: Other_Disease, dtype: int64"
      ]
     },
     "execution_count": 16,
     "metadata": {},
     "output_type": "execute_result"
    }
   ],
   "source": [
    "covid['Other_Disease'].value_counts()"
   ]
  },
  {
   "cell_type": "code",
   "execution_count": 17,
   "metadata": {},
   "outputs": [
    {
     "data": {
      "text/html": [
       "<div>\n",
       "<style scoped>\n",
       "    .dataframe tbody tr th:only-of-type {\n",
       "        vertical-align: middle;\n",
       "    }\n",
       "\n",
       "    .dataframe tbody tr th {\n",
       "        vertical-align: top;\n",
       "    }\n",
       "\n",
       "    .dataframe thead th {\n",
       "        text-align: right;\n",
       "    }\n",
       "</style>\n",
       "<table border=\"1\" class=\"dataframe\">\n",
       "  <thead>\n",
       "    <tr style=\"text-align: right;\">\n",
       "      <th></th>\n",
       "      <th>Gender</th>\n",
       "      <th>Age</th>\n",
       "      <th>Age_Group</th>\n",
       "      <th>Month_Infection</th>\n",
       "      <th>Weather</th>\n",
       "      <th>LockDown</th>\n",
       "      <th>ICU</th>\n",
       "      <th>Locality</th>\n",
       "      <th>Financial</th>\n",
       "      <th>Covid Stage</th>\n",
       "      <th>Immune</th>\n",
       "      <th>Other_Disease</th>\n",
       "      <th>Survived</th>\n",
       "    </tr>\n",
       "  </thead>\n",
       "  <tbody>\n",
       "    <tr>\n",
       "      <th>count</th>\n",
       "      <td>6683.000000</td>\n",
       "      <td>6683.000000</td>\n",
       "      <td>6683.000000</td>\n",
       "      <td>6683.000000</td>\n",
       "      <td>6683.000000</td>\n",
       "      <td>6683.000000</td>\n",
       "      <td>6683.000000</td>\n",
       "      <td>6683.000000</td>\n",
       "      <td>6683.000000</td>\n",
       "      <td>6683.0</td>\n",
       "      <td>6683.000000</td>\n",
       "      <td>6683.000000</td>\n",
       "      <td>6683.000000</td>\n",
       "    </tr>\n",
       "    <tr>\n",
       "      <th>mean</th>\n",
       "      <td>0.425258</td>\n",
       "      <td>55.831064</td>\n",
       "      <td>1.522969</td>\n",
       "      <td>5.884782</td>\n",
       "      <td>0.350890</td>\n",
       "      <td>0.559479</td>\n",
       "      <td>0.549304</td>\n",
       "      <td>1.702379</td>\n",
       "      <td>1.795900</td>\n",
       "      <td>1.0</td>\n",
       "      <td>53.294778</td>\n",
       "      <td>72.442765</td>\n",
       "      <td>0.611552</td>\n",
       "    </tr>\n",
       "    <tr>\n",
       "      <th>std</th>\n",
       "      <td>0.494419</td>\n",
       "      <td>17.025687</td>\n",
       "      <td>0.562100</td>\n",
       "      <td>3.162450</td>\n",
       "      <td>0.477284</td>\n",
       "      <td>0.496487</td>\n",
       "      <td>0.497600</td>\n",
       "      <td>1.297952</td>\n",
       "      <td>1.292671</td>\n",
       "      <td>0.0</td>\n",
       "      <td>48.642123</td>\n",
       "      <td>43.578865</td>\n",
       "      <td>2.991547</td>\n",
       "    </tr>\n",
       "    <tr>\n",
       "      <th>min</th>\n",
       "      <td>0.000000</td>\n",
       "      <td>1.000000</td>\n",
       "      <td>1.000000</td>\n",
       "      <td>1.000000</td>\n",
       "      <td>0.000000</td>\n",
       "      <td>0.000000</td>\n",
       "      <td>0.000000</td>\n",
       "      <td>1.000000</td>\n",
       "      <td>1.000000</td>\n",
       "      <td>1.0</td>\n",
       "      <td>1.000000</td>\n",
       "      <td>0.000000</td>\n",
       "      <td>0.000000</td>\n",
       "    </tr>\n",
       "    <tr>\n",
       "      <th>25%</th>\n",
       "      <td>0.000000</td>\n",
       "      <td>44.000000</td>\n",
       "      <td>1.000000</td>\n",
       "      <td>4.000000</td>\n",
       "      <td>0.000000</td>\n",
       "      <td>0.000000</td>\n",
       "      <td>0.000000</td>\n",
       "      <td>1.000000</td>\n",
       "      <td>1.000000</td>\n",
       "      <td>1.0</td>\n",
       "      <td>2.000000</td>\n",
       "      <td>1.000000</td>\n",
       "      <td>0.000000</td>\n",
       "    </tr>\n",
       "    <tr>\n",
       "      <th>50%</th>\n",
       "      <td>0.000000</td>\n",
       "      <td>60.000000</td>\n",
       "      <td>1.000000</td>\n",
       "      <td>5.000000</td>\n",
       "      <td>0.000000</td>\n",
       "      <td>1.000000</td>\n",
       "      <td>1.000000</td>\n",
       "      <td>2.000000</td>\n",
       "      <td>2.000000</td>\n",
       "      <td>1.0</td>\n",
       "      <td>99.000000</td>\n",
       "      <td>99.000000</td>\n",
       "      <td>1.000000</td>\n",
       "    </tr>\n",
       "    <tr>\n",
       "      <th>75%</th>\n",
       "      <td>1.000000</td>\n",
       "      <td>67.000000</td>\n",
       "      <td>2.000000</td>\n",
       "      <td>8.000000</td>\n",
       "      <td>1.000000</td>\n",
       "      <td>1.000000</td>\n",
       "      <td>1.000000</td>\n",
       "      <td>2.000000</td>\n",
       "      <td>2.000000</td>\n",
       "      <td>1.0</td>\n",
       "      <td>99.000000</td>\n",
       "      <td>99.000000</td>\n",
       "      <td>1.000000</td>\n",
       "    </tr>\n",
       "    <tr>\n",
       "      <th>max</th>\n",
       "      <td>1.000000</td>\n",
       "      <td>120.000000</td>\n",
       "      <td>3.000000</td>\n",
       "      <td>12.000000</td>\n",
       "      <td>1.000000</td>\n",
       "      <td>1.000000</td>\n",
       "      <td>1.000000</td>\n",
       "      <td>99.000000</td>\n",
       "      <td>99.000000</td>\n",
       "      <td>1.0</td>\n",
       "      <td>99.000000</td>\n",
       "      <td>99.000000</td>\n",
       "      <td>99.000000</td>\n",
       "    </tr>\n",
       "  </tbody>\n",
       "</table>\n",
       "</div>"
      ],
      "text/plain": [
       "            Gender          Age    Age_Group  Month_Infection      Weather  \\\n",
       "count  6683.000000  6683.000000  6683.000000      6683.000000  6683.000000   \n",
       "mean      0.425258    55.831064     1.522969         5.884782     0.350890   \n",
       "std       0.494419    17.025687     0.562100         3.162450     0.477284   \n",
       "min       0.000000     1.000000     1.000000         1.000000     0.000000   \n",
       "25%       0.000000    44.000000     1.000000         4.000000     0.000000   \n",
       "50%       0.000000    60.000000     1.000000         5.000000     0.000000   \n",
       "75%       1.000000    67.000000     2.000000         8.000000     1.000000   \n",
       "max       1.000000   120.000000     3.000000        12.000000     1.000000   \n",
       "\n",
       "          LockDown          ICU     Locality    Financial  Covid Stage  \\\n",
       "count  6683.000000  6683.000000  6683.000000  6683.000000       6683.0   \n",
       "mean      0.559479     0.549304     1.702379     1.795900          1.0   \n",
       "std       0.496487     0.497600     1.297952     1.292671          0.0   \n",
       "min       0.000000     0.000000     1.000000     1.000000          1.0   \n",
       "25%       0.000000     0.000000     1.000000     1.000000          1.0   \n",
       "50%       1.000000     1.000000     2.000000     2.000000          1.0   \n",
       "75%       1.000000     1.000000     2.000000     2.000000          1.0   \n",
       "max       1.000000     1.000000    99.000000    99.000000          1.0   \n",
       "\n",
       "            Immune  Other_Disease     Survived  \n",
       "count  6683.000000    6683.000000  6683.000000  \n",
       "mean     53.294778      72.442765     0.611552  \n",
       "std      48.642123      43.578865     2.991547  \n",
       "min       1.000000       0.000000     0.000000  \n",
       "25%       2.000000       1.000000     0.000000  \n",
       "50%      99.000000      99.000000     1.000000  \n",
       "75%      99.000000      99.000000     1.000000  \n",
       "max      99.000000      99.000000    99.000000  "
      ]
     },
     "execution_count": 17,
     "metadata": {},
     "output_type": "execute_result"
    }
   ],
   "source": [
    "covid.describe()"
   ]
  },
  {
   "cell_type": "code",
   "execution_count": 18,
   "metadata": {},
   "outputs": [],
   "source": [
    "import matplotlib.pyplot as plt"
   ]
  },
  {
   "cell_type": "code",
   "execution_count": 19,
   "metadata": {},
   "outputs": [
    {
     "data": {
      "text/plain": [
       "array([[<matplotlib.axes._subplots.AxesSubplot object at 0x0A9A0FD0>,\n",
       "        <matplotlib.axes._subplots.AxesSubplot object at 0x0B648C70>,\n",
       "        <matplotlib.axes._subplots.AxesSubplot object at 0x0BCF9D50>,\n",
       "        <matplotlib.axes._subplots.AxesSubplot object at 0x0BD19E30>],\n",
       "       [<matplotlib.axes._subplots.AxesSubplot object at 0x0BD3BF10>,\n",
       "        <matplotlib.axes._subplots.AxesSubplot object at 0x0BD5BFF0>,\n",
       "        <matplotlib.axes._subplots.AxesSubplot object at 0x0BD7CB30>,\n",
       "        <matplotlib.axes._subplots.AxesSubplot object at 0x0BD9CC10>],\n",
       "       [<matplotlib.axes._subplots.AxesSubplot object at 0x0BDA91D0>,\n",
       "        <matplotlib.axes._subplots.AxesSubplot object at 0x0BDC8370>,\n",
       "        <matplotlib.axes._subplots.AxesSubplot object at 0x0BDFEEB0>,\n",
       "        <matplotlib.axes._subplots.AxesSubplot object at 0x0BE1FF90>],\n",
       "       [<matplotlib.axes._subplots.AxesSubplot object at 0x0BE4A630>,\n",
       "        <matplotlib.axes._subplots.AxesSubplot object at 0x0BE69710>,\n",
       "        <matplotlib.axes._subplots.AxesSubplot object at 0x0BE8C7F0>,\n",
       "        <matplotlib.axes._subplots.AxesSubplot object at 0x0BEAB8D0>]],\n",
       "      dtype=object)"
      ]
     },
     "execution_count": 19,
     "metadata": {},
     "output_type": "execute_result"
    },
    {
     "data": {
      "image/png": "[encoded data removed]",
      "text/plain": [
       "<Figure size 1440x1080 with 16 Axes>"
      ]
     },
     "metadata": {
      "needs_background": "light"
     },
     "output_type": "display_data"
    }
   ],
   "source": [
    "covid.hist(figsize=(20,15))"
   ]
  },
  {
   "cell_type": "markdown",
   "metadata": {},
   "source": [
    "## train test split"
   ]
  },
  {
   "cell_type": "code",
   "execution_count": 20,
   "metadata": {},
   "outputs": [
    {
     "name": "stdout",
     "output_type": "stream",
     "text": [
      "Rows in train set:5346\n",
      " Rows in test_set:1337\n",
      "\n"
     ]
    }
   ],
   "source": [
    "import numpy as np\n",
    "from sklearn.model_selection import train_test_split\n",
    "train_set,test_set=train_test_split(covid,test_size=0.2,random_state=42)\n",
    "print(f\"Rows in train set:{len(train_set)}\\n Rows in test_set:{len(test_set)}\\n\")"
   ]
  },
  {
   "cell_type": "code",
   "execution_count": 21,
   "metadata": {},
   "outputs": [],
   "source": [
    "from sklearn.model_selection import StratifiedShuffleSplit\n",
    "split=StratifiedShuffleSplit(n_splits=1, test_size=0.2, random_state=42)\n",
    "for train_index,test_index in split.split(covid,covid['Other_Disease']):\n",
    "    start_train_set=covid.loc[train_index]\n",
    "    start_test_set=covid.loc[test_index]"
   ]
  },
  {
   "cell_type": "code",
   "execution_count": 22,
   "metadata": {},
   "outputs": [
    {
     "data": {
      "text/html": [
       "<div>\n",
       "<style scoped>\n",
       "    .dataframe tbody tr th:only-of-type {\n",
       "        vertical-align: middle;\n",
       "    }\n",
       "\n",
       "    .dataframe tbody tr th {\n",
       "        vertical-align: top;\n",
       "    }\n",
       "\n",
       "    .dataframe thead th {\n",
       "        text-align: right;\n",
       "    }\n",
       "</style>\n",
       "<table border=\"1\" class=\"dataframe\">\n",
       "  <thead>\n",
       "    <tr style=\"text-align: right;\">\n",
       "      <th></th>\n",
       "      <th>Gender</th>\n",
       "      <th>Age</th>\n",
       "      <th>Age_Group</th>\n",
       "      <th>Month_Infection</th>\n",
       "      <th>Weather</th>\n",
       "      <th>LockDown</th>\n",
       "      <th>ICU</th>\n",
       "      <th>Locality</th>\n",
       "      <th>Financial</th>\n",
       "      <th>Covid Stage</th>\n",
       "      <th>Immune</th>\n",
       "      <th>Other_Disease</th>\n",
       "      <th>Survived</th>\n",
       "    </tr>\n",
       "  </thead>\n",
       "  <tbody>\n",
       "    <tr>\n",
       "      <th>count</th>\n",
       "      <td>1337.000000</td>\n",
       "      <td>1337.000000</td>\n",
       "      <td>1337.000000</td>\n",
       "      <td>1337.000000</td>\n",
       "      <td>1337.000000</td>\n",
       "      <td>1337.000000</td>\n",
       "      <td>1337.000000</td>\n",
       "      <td>1337.000000</td>\n",
       "      <td>1337.000000</td>\n",
       "      <td>1337.0</td>\n",
       "      <td>1337.000000</td>\n",
       "      <td>1337.000000</td>\n",
       "      <td>1337.000000</td>\n",
       "    </tr>\n",
       "    <tr>\n",
       "      <th>mean</th>\n",
       "      <td>0.432311</td>\n",
       "      <td>55.940165</td>\n",
       "      <td>1.507853</td>\n",
       "      <td>6.020942</td>\n",
       "      <td>0.363500</td>\n",
       "      <td>0.543007</td>\n",
       "      <td>0.543755</td>\n",
       "      <td>1.686612</td>\n",
       "      <td>1.773373</td>\n",
       "      <td>1.0</td>\n",
       "      <td>55.112939</td>\n",
       "      <td>72.451010</td>\n",
       "      <td>0.672401</td>\n",
       "    </tr>\n",
       "    <tr>\n",
       "      <th>std</th>\n",
       "      <td>0.495582</td>\n",
       "      <td>16.664019</td>\n",
       "      <td>0.556782</td>\n",
       "      <td>3.252522</td>\n",
       "      <td>0.481187</td>\n",
       "      <td>0.498333</td>\n",
       "      <td>0.498268</td>\n",
       "      <td>0.520314</td>\n",
       "      <td>0.507675</td>\n",
       "      <td>0.0</td>\n",
       "      <td>48.512622</td>\n",
       "      <td>43.587316</td>\n",
       "      <td>3.839843</td>\n",
       "    </tr>\n",
       "    <tr>\n",
       "      <th>min</th>\n",
       "      <td>0.000000</td>\n",
       "      <td>11.000000</td>\n",
       "      <td>1.000000</td>\n",
       "      <td>1.000000</td>\n",
       "      <td>0.000000</td>\n",
       "      <td>0.000000</td>\n",
       "      <td>0.000000</td>\n",
       "      <td>1.000000</td>\n",
       "      <td>1.000000</td>\n",
       "      <td>1.0</td>\n",
       "      <td>1.000000</td>\n",
       "      <td>0.000000</td>\n",
       "      <td>0.000000</td>\n",
       "    </tr>\n",
       "    <tr>\n",
       "      <th>25%</th>\n",
       "      <td>0.000000</td>\n",
       "      <td>44.000000</td>\n",
       "      <td>1.000000</td>\n",
       "      <td>4.000000</td>\n",
       "      <td>0.000000</td>\n",
       "      <td>0.000000</td>\n",
       "      <td>0.000000</td>\n",
       "      <td>1.000000</td>\n",
       "      <td>1.000000</td>\n",
       "      <td>1.0</td>\n",
       "      <td>2.000000</td>\n",
       "      <td>1.000000</td>\n",
       "      <td>0.000000</td>\n",
       "    </tr>\n",
       "    <tr>\n",
       "      <th>50%</th>\n",
       "      <td>0.000000</td>\n",
       "      <td>60.000000</td>\n",
       "      <td>1.000000</td>\n",
       "      <td>5.000000</td>\n",
       "      <td>0.000000</td>\n",
       "      <td>1.000000</td>\n",
       "      <td>1.000000</td>\n",
       "      <td>2.000000</td>\n",
       "      <td>2.000000</td>\n",
       "      <td>1.0</td>\n",
       "      <td>99.000000</td>\n",
       "      <td>99.000000</td>\n",
       "      <td>1.000000</td>\n",
       "    </tr>\n",
       "    <tr>\n",
       "      <th>75%</th>\n",
       "      <td>1.000000</td>\n",
       "      <td>67.000000</td>\n",
       "      <td>2.000000</td>\n",
       "      <td>9.000000</td>\n",
       "      <td>1.000000</td>\n",
       "      <td>1.000000</td>\n",
       "      <td>1.000000</td>\n",
       "      <td>2.000000</td>\n",
       "      <td>2.000000</td>\n",
       "      <td>1.0</td>\n",
       "      <td>99.000000</td>\n",
       "      <td>99.000000</td>\n",
       "      <td>1.000000</td>\n",
       "    </tr>\n",
       "    <tr>\n",
       "      <th>max</th>\n",
       "      <td>1.000000</td>\n",
       "      <td>102.000000</td>\n",
       "      <td>3.000000</td>\n",
       "      <td>12.000000</td>\n",
       "      <td>1.000000</td>\n",
       "      <td>1.000000</td>\n",
       "      <td>1.000000</td>\n",
       "      <td>3.000000</td>\n",
       "      <td>3.000000</td>\n",
       "      <td>1.0</td>\n",
       "      <td>99.000000</td>\n",
       "      <td>99.000000</td>\n",
       "      <td>99.000000</td>\n",
       "    </tr>\n",
       "  </tbody>\n",
       "</table>\n",
       "</div>"
      ],
      "text/plain": [
       "            Gender          Age    Age_Group  Month_Infection      Weather  \\\n",
       "count  1337.000000  1337.000000  1337.000000      1337.000000  1337.000000   \n",
       "mean      0.432311    55.940165     1.507853         6.020942     0.363500   \n",
       "std       0.495582    16.664019     0.556782         3.252522     0.481187   \n",
       "min       0.000000    11.000000     1.000000         1.000000     0.000000   \n",
       "25%       0.000000    44.000000     1.000000         4.000000     0.000000   \n",
       "50%       0.000000    60.000000     1.000000         5.000000     0.000000   \n",
       "75%       1.000000    67.000000     2.000000         9.000000     1.000000   \n",
       "max       1.000000   102.000000     3.000000        12.000000     1.000000   \n",
       "\n",
       "          LockDown          ICU     Locality    Financial  Covid Stage  \\\n",
       "count  1337.000000  1337.000000  1337.000000  1337.000000       1337.0   \n",
       "mean      0.543007     0.543755     1.686612     1.773373          1.0   \n",
       "std       0.498333     0.498268     0.520314     0.507675          0.0   \n",
       "min       0.000000     0.000000     1.000000     1.000000          1.0   \n",
       "25%       0.000000     0.000000     1.000000     1.000000          1.0   \n",
       "50%       1.000000     1.000000     2.000000     2.000000          1.0   \n",
       "75%       1.000000     1.000000     2.000000     2.000000          1.0   \n",
       "max       1.000000     1.000000     3.000000     3.000000          1.0   \n",
       "\n",
       "            Immune  Other_Disease     Survived  \n",
       "count  1337.000000    1337.000000  1337.000000  \n",
       "mean     55.112939      72.451010     0.672401  \n",
       "std      48.512622      43.587316     3.839843  \n",
       "min       1.000000       0.000000     0.000000  \n",
       "25%       2.000000       1.000000     0.000000  \n",
       "50%      99.000000      99.000000     1.000000  \n",
       "75%      99.000000      99.000000     1.000000  \n",
       "max      99.000000      99.000000    99.000000  "
      ]
     },
     "execution_count": 22,
     "metadata": {},
     "output_type": "execute_result"
    }
   ],
   "source": [
    "start_test_set.describe()"
   ]
  },
  {
   "cell_type": "markdown",
   "metadata": {},
   "source": [
    "## loking for corelation"
   ]
  },
  {
   "cell_type": "code",
   "execution_count": 23,
   "metadata": {},
   "outputs": [],
   "source": [
    "corr_matrix=covid.corr()"
   ]
  },
  {
   "cell_type": "code",
   "execution_count": 24,
   "metadata": {},
   "outputs": [
    {
     "data": {
      "text/plain": [
       "Survived           1.000000\n",
       "ICU                0.037097\n",
       "LockDown           0.029967\n",
       "Other_Disease      0.026279\n",
       "Age_Group          0.022127\n",
       "Financial          0.009371\n",
       "Locality           0.002250\n",
       "Gender             0.002122\n",
       "Month_Infection   -0.011977\n",
       "Age               -0.014517\n",
       "Immune            -0.015683\n",
       "Weather           -0.033759\n",
       "Covid Stage             NaN\n",
       "Name: Survived, dtype: float64"
      ]
     },
     "execution_count": 24,
     "metadata": {},
     "output_type": "execute_result"
    }
   ],
   "source": [
    "corr_matrix['Survived'].sort_values(ascending=False)"
   ]
  },
  {
   "cell_type": "code",
   "execution_count": 27,
   "metadata": {},
   "outputs": [
    {
     "data": {
      "text/plain": [
       "array([[<matplotlib.axes._subplots.AxesSubplot object at 0x0A98A0D0>,\n",
       "        <matplotlib.axes._subplots.AxesSubplot object at 0x1350DEF0>,\n",
       "        <matplotlib.axes._subplots.AxesSubplot object at 0x1373FED0>,\n",
       "        <matplotlib.axes._subplots.AxesSubplot object at 0x0E0E3DB0>,\n",
       "        <matplotlib.axes._subplots.AxesSubplot object at 0x0E103E90>,\n",
       "        <matplotlib.axes._subplots.AxesSubplot object at 0x0E123F50>,\n",
       "        <matplotlib.axes._subplots.AxesSubplot object at 0x0E14F670>],\n",
       "       [<matplotlib.axes._subplots.AxesSubplot object at 0x0E16F130>,\n",
       "        <matplotlib.axes._subplots.AxesSubplot object at 0x0E16F6D0>,\n",
       "        <matplotlib.axes._subplots.AxesSubplot object at 0x0E190870>,\n",
       "        <matplotlib.axes._subplots.AxesSubplot object at 0x0E1D0970>,\n",
       "        <matplotlib.axes._subplots.AxesSubplot object at 0x0E1F0A50>,\n",
       "        <matplotlib.axes._subplots.AxesSubplot object at 0x0E212B30>,\n",
       "        <matplotlib.axes._subplots.AxesSubplot object at 0x0E232C10>],\n",
       "       [<matplotlib.axes._subplots.AxesSubplot object at 0x0E251CF0>,\n",
       "        <matplotlib.axes._subplots.AxesSubplot object at 0x0E272DD0>,\n",
       "        <matplotlib.axes._subplots.AxesSubplot object at 0x0E2F3EB0>,\n",
       "        <matplotlib.axes._subplots.AxesSubplot object at 0x0E315F90>,\n",
       "        <matplotlib.axes._subplots.AxesSubplot object at 0x0E336AD0>,\n",
       "        <matplotlib.axes._subplots.AxesSubplot object at 0x0E356BB0>,\n",
       "        <matplotlib.axes._subplots.AxesSubplot object at 0x0E377C90>],\n",
       "       [<matplotlib.axes._subplots.AxesSubplot object at 0x0E398D70>,\n",
       "        <matplotlib.axes._subplots.AxesSubplot object at 0x0E3B7B90>,\n",
       "        <matplotlib.axes._subplots.AxesSubplot object at 0x0E3D8C70>,\n",
       "        <matplotlib.axes._subplots.AxesSubplot object at 0x0E3F8D50>,\n",
       "        <matplotlib.axes._subplots.AxesSubplot object at 0x0E418E30>,\n",
       "        <matplotlib.axes._subplots.AxesSubplot object at 0x0E439F10>,\n",
       "        <matplotlib.axes._subplots.AxesSubplot object at 0x0E459FF0>],\n",
       "       [<matplotlib.axes._subplots.AxesSubplot object at 0x0E486690>,\n",
       "        <matplotlib.axes._subplots.AxesSubplot object at 0x0E4A7770>,\n",
       "        <matplotlib.axes._subplots.AxesSubplot object at 0x13539850>,\n",
       "        <matplotlib.axes._subplots.AxesSubplot object at 0x13559930>,\n",
       "        <matplotlib.axes._subplots.AxesSubplot object at 0x13579A10>,\n",
       "        <matplotlib.axes._subplots.AxesSubplot object at 0x1359AAF0>,\n",
       "        <matplotlib.axes._subplots.AxesSubplot object at 0x135BBBD0>],\n",
       "       [<matplotlib.axes._subplots.AxesSubplot object at 0x135DBCB0>,\n",
       "        <matplotlib.axes._subplots.AxesSubplot object at 0x135FAD90>,\n",
       "        <matplotlib.axes._subplots.AxesSubplot object at 0x1361CE70>,\n",
       "        <matplotlib.axes._subplots.AxesSubplot object at 0x1363EF50>,\n",
       "        <matplotlib.axes._subplots.AxesSubplot object at 0x1365CA90>,\n",
       "        <matplotlib.axes._subplots.AxesSubplot object at 0x1367EB70>,\n",
       "        <matplotlib.axes._subplots.AxesSubplot object at 0x1369FC50>],\n",
       "       [<matplotlib.axes._subplots.AxesSubplot object at 0x136BFD30>,\n",
       "        <matplotlib.axes._subplots.AxesSubplot object at 0x136DFE10>,\n",
       "        <matplotlib.axes._subplots.AxesSubplot object at 0x138D2EF0>,\n",
       "        <matplotlib.axes._subplots.AxesSubplot object at 0x138F0FD0>,\n",
       "        <matplotlib.axes._subplots.AxesSubplot object at 0x1391D670>,\n",
       "        <matplotlib.axes._subplots.AxesSubplot object at 0x1393D750>,\n",
       "        <matplotlib.axes._subplots.AxesSubplot object at 0x1395F830>]],\n",
       "      dtype=object)"
      ]
     },
     "execution_count": 27,
     "metadata": {},
     "output_type": "execute_result"
    },
    {
     "data": {
      "image/png": "[encoded data removed]",
      "text/plain": [
       "<Figure size 1440x864 with 49 Axes>"
      ]
     },
     "metadata": {
      "needs_background": "light"
     },
     "output_type": "display_data"
    }
   ],
   "source": [
    "from pandas.plotting import scatter_matrix\n",
    "atrb = [\"Survived\",\"ICU\",\"LockDown\",\"Other_Disease\",\"Weather\",\"Immune\",\"Age_Group\"]\n",
    "scatter_matrix(covid[atrb],figsize=(20,12))"
   ]
  },
  {
   "cell_type": "code",
   "execution_count": null,
   "metadata": {},
   "outputs": [],
   "source": []
  },
  {
   "cell_type": "markdown",
   "metadata": {},
   "source": [
    "#visualising the Training set results\n",
    "\n",
    "\n",
    "X_set, y_set = X_test, y_test\n",
    "\n",
    "\n",
    "X1, X2 = np.meshgrid(np.arange(start = X_set[:, 1].min()- 1 ,\n",
    "\n",
    "                               stop = X_set[:, 0].max() + 1,\n",
    "\n",
    "                               step = 0.01),\n",
    "\n",
    "                     np.arange(start = X_set[:, 1].min() -1,\n",
    "\n",
    "                               stop = X_set[:, 0].max() + 1,\n",
    "\n",
    "                               step = 0.01))\n",
    "\n",
    "\n",
    "\n",
    "Z_train = np.array([X1.ravel(), X2.ravel()]).T\n",
    "plt.contourf(X1, X2, classifier.predict(Z_train).reshape(X1.shape), \n",
    "                                    alpha=0.75,\n",
    "                                    cmap=ListedColormap(\n",
    "                                    ('yellow', 'white')))\n",
    "plt.xlim(X1.min(), X1.max())\n",
    "\n",
    "plt.ylim(X2.min(), X2.max())\n",
    "\n",
    "\n",
    "\n",
    "\n",
    "for i,j in enumerate(np.unique(y_set)):\n",
    "             plt.scatter(X_set[y_set== j, 0], X_set[y_set == j, 1],\n",
    " c =  ListedColormap(('green', 'red', 'blue'))(i), label = j)\n",
    "\n",
    "             \n",
    "\n",
    "plt.title('PCA (Training set)')\n",
    "\n",
    "plt.xlabel('PC1')\n",
    "\n",
    "plt.ylabel('PC2')\n",
    "\n",
    "plt.legend()\n",
    "\n",
    "plt.show()"
   ]
  },
  {
   "cell_type": "markdown",
   "metadata": {},
   "source": [
    "#split into dependant and independent variable\n",
    "x = co.iloc[:,0:2].values\n",
    "\n",
    "y = co.iloc[:,28].values\n",
    "\n",
    "\n",
    "\n",
    "#splitting dataset into a training set and test set\n",
    "\n",
    "from sklearn.model_selection import train_test_split\n",
    "\n",
    "\n",
    "\n",
    "X_train, X_test, y_train, y_test = train_test_split(x, y, test_size=0.4, random_state = 0)"
   ]
  },
  {
   "cell_type": "markdown",
   "metadata": {},
   "source": [
    "from sklearn.preprocessing import StandardScaler\n",
    "\n",
    "sc = StandardScaler()\n",
    "\n",
    "X_train = sc.fit_transform(X_train)\n",
    "\n",
    "X_test = sc.transform(X_test)\n"
   ]
  },
  {
   "cell_type": "markdown",
   "metadata": {},
   "source": [
    "from sklearn.decomposition import PCA\n",
    "\n",
    "pca = PCA(n_components=2)\n",
    "\n",
    "X_train = sc.fit_transform(X_train)\n",
    "\n",
    "X_test = sc.transform(X_test)\n",
    "\n",
    "# explained_variane = pca.explained_variance_ratio_\n",
    "\n",
    "\n",
    "\n",
    "#fitting logistic Regression to training set\n",
    "\n",
    "from sklearn.linear_model import LogisticRegression\n",
    "\n",
    "classifier = LogisticRegression(random_state = 0)\n",
    "\n",
    "classifier.fit(X_train, y_train)\n",
    "\n",
    "\n",
    "\n",
    "#predicting results\n",
    "\n",
    "\n",
    "\n",
    "y_pred = classifier.predict(X_test)\n",
    "\n",
    "print(\"accuracy \\score:\", accuracy_score(y_test,y_pred))"
   ]
  },
  {
   "cell_type": "markdown",
   "metadata": {},
   "source": [
    "#visualising the Training set results\n",
    "\n",
    "\n",
    "\n",
    "X_set, y_set = X_test, y_test\n",
    "\n",
    "\n",
    "\n",
    "X1, X2 = np.meshgrid(np.arange(start=X_set[:, 0].min(),\n",
    "                               stop=X_set[:, 0].max(), step=0.1),\n",
    "                     np.arange(start=X_set[:, 1].min(),\n",
    "                               stop=X_set[:,1].max(), step=0.1))\n",
    "\n",
    "Z_train = np.array([X1.ravel(), X2.ravel()]).T\n",
    "plt.contourf(X1, X2, classifier.predict(Z_train).reshape((X1.shape[0],X2.shape[0]), \n",
    "                                    alpha=0.75,\n",
    "                                    cmap=ListedColormap(\n",
    "                                    ('white','yellow'))))\n",
    "\n",
    "plt.xlim(X1.min(), X1.max())\n",
    "plt.ylim(X2.min(), X2.max())\n",
    "\n",
    "\n",
    "\n",
    "for i,j in enumerate(np.unique(y_set)):\n",
    "             plt.scatter(X_set[y_set== j, 0], X_set[y_set == j, 1],\n",
    " c =  ListedColormap(('green', 'red', 'blue'))(i), label = j)\n",
    "\n",
    "             \n",
    "\n",
    "plt.title('PCA using Logistic Regression (Training set)')\n",
    "\n",
    "plt.xlabel('Female')\n",
    "\n",
    "plt.ylabel('Male')\n",
    "\n",
    "plt.legend()\n",
    "\n",
    "plt.show()"
   ]
  },
  {
   "cell_type": "markdown",
   "metadata": {},
   "source": [
    "#split into dependant and independent variable\n",
    "x = co.iloc[:,2:6].values\n",
    "\n",
    "y = co.iloc[:,28].values\n",
    "\n",
    "\n",
    "\n",
    "#splitting dataset into a training set and test set\n",
    "\n",
    "from sklearn.model_selection import train_test_split\n",
    "\n",
    "\n",
    "\n",
    "X_train, X_test, y_train, y_test = train_test_split(x, y, test_size=0.4, random_state = 0)"
   ]
  },
  {
   "cell_type": "markdown",
   "metadata": {},
   "source": [
    "from sklearn.preprocessing import StandardScaler\n",
    "\n",
    "sc = StandardScaler()\n",
    "\n",
    "X_train = sc.fit_transform(X_train)\n",
    "\n",
    "X_test = sc.transform(X_test)"
   ]
  },
  {
   "cell_type": "markdown",
   "metadata": {},
   "source": [
    "from sklearn.decomposition import PCA\n",
    "\n",
    "pca = PCA(n_components=2)\n",
    "\n",
    "X_train = sc.fit_transform(X_train)\n",
    "\n",
    "X_test = sc.transform(X_test)\n",
    "\n",
    "# explained_variane = pca.explained_variance_ratio_\n",
    "\n",
    "\n",
    "\n",
    "#fitting logistic Regression to training set\n",
    "\n",
    "from sklearn.linear_model import LogisticRegression\n",
    "\n",
    "classifier = LogisticRegression(random_state = 0)\n",
    "\n",
    "classifier.fit(X_train, y_train)\n",
    "\n",
    "\n",
    "\n",
    "#predicting results\n",
    "\n",
    "\n",
    "\n",
    "y_pred = classifier.predict(X_test)\n",
    "\n",
    "print(\"accuracy \\score:\", accuracy_score(y_test,y_pred))"
   ]
  },
  {
   "cell_type": "markdown",
   "metadata": {},
   "source": [
    "#visualising the Training set results\n",
    "\n",
    "\n",
    "\n",
    "X_set, y_set = X_test, y_test\n",
    "\n",
    "\n",
    "    X1, X2= np.meshgrid(np.arange(start=X_set[:, 0].min(),\n",
    "                               stop=X_set[:, 0].max(), step=0.5),\n",
    "                             np.arange(start=X_set[:, 1].min(),\n",
    "                               stop=X_set[:, 1].max(), step=0.5))\n",
    "                            \n",
    "\n",
    "Z_train = np.array([ X1.ravel(),X2.ravel()]+ [np.repeat(0, X1.ravel().size) for _ in range(26)]).T\n",
    "plt.contourf( X1, X2, classifier.predict(Z_train).reshape(X1.shape[0],X2.shape[0]), \n",
    "                                    alpha=0.75,\n",
    "                                    cmap=ListedColormap(\n",
    "                                    ('yellow', 'white','')))\n",
    "\n",
    "plt.xlim(X1.min(), X1.max())\n",
    "plt.ylim(X2.min(), X2.max())\n",
    "\n",
    "\n",
    "\n",
    "for i,j in enumerate(np.unique(y_set)):\n",
    "             plt.scatter(X_set[y_set== j, 0], X_set[y_set == j, 1],\n",
    " c =  ListedColormap(('green', 'red', 'blue'))(i), label = j)\n",
    "\n",
    "             \n",
    "\n",
    "plt.title('PCA using Logistic Regression (Training set)')\n",
    "\n",
    "plt.xlabel('Female')\n",
    "\n",
    "plt.ylabel('Male')\n",
    "\n",
    "plt.legend()\n",
    "\n",
    "plt.show()"
   ]
  },
  {
   "cell_type": "markdown",
   "metadata": {},
   "source": [
    "#split into dependant and independent variable\n",
    "x = co.iloc[:,6:22].values\n",
    "\n",
    "y = co.iloc[:,28].values\n",
    "\n",
    "\n",
    "\n",
    "#splitting dataset into a training set and test set\n",
    "\n",
    "from sklearn.model_selection import train_test_split\n",
    "\n",
    "\n",
    "\n",
    "X_train, X_test, y_train, y_test = train_test_split(x, y, test_size=0.4, random_state = 0)"
   ]
  },
  {
   "cell_type": "markdown",
   "metadata": {},
   "source": [
    "from sklearn.preprocessing import StandardScaler\n",
    "\n",
    "sc = StandardScaler()\n",
    "\n",
    "X_train = sc.fit_transform(X_train)\n",
    "\n",
    "X_test = sc.transform(X_test)"
   ]
  },
  {
   "cell_type": "markdown",
   "metadata": {},
   "source": [
    "from sklearn.decomposition import PCA\n",
    "\n",
    "pca = PCA(n_components=2)\n",
    "\n",
    "X_train = sc.fit_transform(X_train)\n",
    "\n",
    "X_test = sc.transform(X_test)\n",
    "\n",
    "# explained_variane = pca.explained_variance_ratio_\n",
    "\n",
    "\n",
    "\n",
    "#fitting logistic Regression to training set\n",
    "\n",
    "from sklearn.linear_model import LogisticRegression\n",
    "\n",
    "classifier = LogisticRegression(random_state = 0)\n",
    "\n",
    "classifier.fit(X_train, y_train)\n",
    "\n",
    "\n",
    "\n",
    "#predicting results\n",
    "\n",
    "\n",
    "\n",
    "y_pred = classifier.predict(X_test)\n",
    "\n",
    "print(\"accuracy \\score:\", accuracy_score(y_test,y_pred))"
   ]
  },
  {
   "cell_type": "markdown",
   "metadata": {},
   "source": [
    "#split into dependant and independent variable\n",
    "x = co.iloc[:,26:28].values\n",
    "\n",
    "y = co.iloc[:,28].values\n",
    "\n",
    "\n",
    "\n",
    "#splitting dataset into a training set and test set\n",
    "\n",
    "from sklearn.model_selection import train_test_split\n",
    "\n",
    "\n",
    "\n",
    "X_train, X_test, y_train, y_test = train_test_split(x, y, test_size=0.4, random_state = 0)"
   ]
  },
  {
   "cell_type": "markdown",
   "metadata": {},
   "source": [
    "from sklearn.preprocessing import StandardScaler\n",
    "\n",
    "sc = StandardScaler()\n",
    "\n",
    "X_train = sc.fit_transform(X_train)\n",
    "\n",
    "X_test = sc.transform(X_test)\n",
    "\n",
    "print(\"x_dependent variables = \" +str(x))\n",
    "print(\"y_independent variables = \" +str(y))"
   ]
  },
  {
   "cell_type": "markdown",
   "metadata": {},
   "source": [
    "from sklearn.decomposition import PCA\n",
    "\n",
    "pca = PCA(n_components=2)\n",
    "\n",
    "X_train = sc.fit_transform(X_train)\n",
    "\n",
    "X_test = sc.transform(X_test)\n",
    "\n",
    "# explained_variane = pca.explained_variance_ratio_\n",
    "\n",
    "\n",
    "\n",
    "#fitting logistic Regression to training set\n",
    "\n",
    "from sklearn.linear_model import LogisticRegression\n",
    "\n",
    "classifier = LogisticRegression(random_state = 0)\n",
    "\n",
    "classifier.fit(X_train, y_train)\n",
    "\n",
    "\n",
    "\n",
    "#predicting results\n",
    "\n",
    "\n",
    "\n",
    "y_pred = classifier.predict(X_test)\n",
    "\n",
    "print(\"accuracy \\score:\", accuracy_score(y_test,y_pred))"
   ]
  },
  {
   "cell_type": "markdown",
   "metadata": {},
   "source": [
    "#visualising the Training set results\n",
    "\n",
    "\n",
    "\n",
    "X_set, y_set = X_test, y_test\n",
    "\n",
    "\n",
    "\n",
    "X1, X2 = np.meshgrid(np.arange(start=X_set[:, 0].min(),\n",
    "                               stop=X_set[:, 0].max(), step=0.5),\n",
    "                     np.arange(start=X_set[:, 0].min(),\n",
    "                               stop=X_set[:,0].max(), step=0.5))\n",
    "\n",
    "Z_train = np.array([X1.ravel(), X2.ravel()]).T\n",
    "plt.contourf(X1, X2, classifier.predict(Z_train).reshape(X1.shape[0],X2.shape[0]), \n",
    "                                    alpha=0.75,\n",
    "                                    cmap=ListedColormap(\n",
    "                                    ('yellow', 'white')))\n",
    "\n",
    "plt.xlim(X1.min(), X1.max())\n",
    "plt.ylim(X2.min(), X2.max())\n",
    "\n",
    "\n",
    "\n",
    "for i,j in enumerate(np.unique(y_set)):\n",
    "             plt.scatter(X_set[y_set== j, 0], X_set[y_set == j, 1],\n",
    " c =  ListedColormap(('green', 'red', 'blue'))(i), label = j)\n",
    "\n",
    "             \n",
    "\n",
    "plt.title('PCA using Logistic Regression (Training set)')\n",
    "\n",
    "plt.xlabel('Other Desies')\n",
    "\n",
    "plt.ylabel('Immunity')\n",
    "\n",
    "plt.legend()\n",
    "\n",
    "plt.show()"
   ]
  },
  {
   "cell_type": "markdown",
   "metadata": {},
   "source": [
    "#split into dependant and independent variable\n",
    "x = co.iloc[:,23:25].values\n",
    "\n",
    "y = co.iloc[:,28].values\n",
    "\n",
    "\n",
    "\n",
    "#splitting dataset into a training set and test set\n",
    "\n",
    "from sklearn.model_selection import train_test_split\n",
    "\n",
    "\n",
    "\n",
    "X_train, X_test, y_train, y_test = train_test_split(x, y, test_size=0.4, random_state = 0)"
   ]
  },
  {
   "cell_type": "markdown",
   "metadata": {},
   "source": [
    "from sklearn.preprocessing import StandardScaler\n",
    "\n",
    "sc = StandardScaler()\n",
    "\n",
    "X_train = sc.fit_transform(X_train)\n",
    "\n",
    "X_test = sc.transform(X_test)\n",
    "\n",
    "print(\"x_dependent variables = \" +str(x))\n",
    "print(\"y_independent variables = \" +str(y))"
   ]
  },
  {
   "cell_type": "markdown",
   "metadata": {},
   "source": [
    "from sklearn.decomposition import PCA\n",
    "\n",
    "pca = PCA(n_components=2)\n",
    "\n",
    "X_train = sc.fit_transform(X_train)\n",
    "\n",
    "X_test = sc.transform(X_test)\n",
    "\n",
    "# explained_variane = pca.explained_variance_ratio_\n",
    "\n",
    "\n",
    "\n",
    "#fitting logistic Regression to training set\n",
    "\n",
    "from sklearn.linear_model import LogisticRegression\n",
    "\n",
    "classifier = LogisticRegression(random_state = 0)\n",
    "\n",
    "classifier.fit(X_train, y_train)\n",
    "\n",
    "\n",
    "\n",
    "#predicting results\n",
    "\n",
    "\n",
    "\n",
    "y_pred = classifier.predict(X_test)\n",
    "\n",
    "print(\"accuracy \\score:\", accuracy_score(y_test,y_pred))"
   ]
  },
  {
   "cell_type": "markdown",
   "metadata": {},
   "source": [
    "#visualising the Training set results\n",
    "\n",
    "\n",
    "\n",
    "X_set, y_set = x_test, y_test\n",
    "\n",
    "\n",
    "\n",
    "X1, X2 = np.meshgrid(np.arange(start = X_set[:, 0].min()- 1 ,\n",
    "\n",
    "                               stop = X_set[:, 0].max() + 1,\n",
    "\n",
    "                               step = 0.1),\n",
    "\n",
    "                     np.arange(start = X_set[:, 1].min() -1,\n",
    "\n",
    "                               stop = X_set[:, 1].max() + 1,\n",
    "\n",
    "                               step = 0.1))\n",
    "\n",
    "\n",
    "Z_train = np.array([X1.ravel(), X2.ravel()]).T\n",
    "pred=classifier.predict(Z_train).reshape(X1.shape)\n",
    "plt.contourf(( X1, X2, pred, alpha = 0.5, Cmap = ListedColormap(('red', 'green'))))\n",
    "\n",
    "plt.xlim(X1.min(), X1.max())\n",
    "\n",
    "plt.ylim(X2.min(), X2.max())\n",
    "\n",
    "\n",
    "\n",
    "for i,j in enumerate(np.unique(y_set)):\n",
    "\n",
    "    plt. scatter(X_set[y_set== j, 0], X_set[y_set == j, 1],\n",
    "\n",
    " c =  ListedColormap(('red', 'green', 'blue'))(i), label = j)\n",
    "\n",
    "             \n",
    "\n",
    "plt.title('PCA using Logistic Regression (Training set)')\n",
    "\n",
    "plt.xlabel('PC1')\n",
    "\n",
    "plt.ylabel('PC2')\n",
    "\n",
    "plt.legend()\n",
    "\n",
    "plt.show()\n"
   ]
  },
  {
   "cell_type": "code",
   "execution_count": null,
   "metadata": {},
   "outputs": [],
   "source": []
  }
 ],
 "metadata": {
  "kernelspec": {
   "display_name": "Python 3 (ipykernel)",
   "language": "python",
   "name": "python3"
  },
  "language_info": {
   "codemirror_mode": {
    "name": "ipython",
    "version": 3
   },
   "file_extension": ".py",
   "mimetype": "text/x-python",
   "name": "python",
   "nbconvert_exporter": "python",
   "pygments_lexer": "ipython3",
   "version": "3.9.12"
  }
 },
 "nbformat": 4,
 "nbformat_minor": 4
}
